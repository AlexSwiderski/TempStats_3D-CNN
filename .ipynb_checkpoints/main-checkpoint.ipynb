{
 "cells": [
  {
   "cell_type": "markdown",
   "metadata": {},
   "source": [
    "BASED ON\n",
    "https://www.biorxiv.org/content/10.1101/2019.12.17.879346v1"
   ]
  },
  {
   "cell_type": "code",
   "execution_count": 4,
   "metadata": {},
   "outputs": [
    {
     "ename": "ModuleNotFoundError",
     "evalue": "No module named 'Dataset'",
     "output_type": "error",
     "traceback": [
      "\u001b[1;31m---------------------------------------------------------------------------\u001b[0m",
      "\u001b[1;31mModuleNotFoundError\u001b[0m                       Traceback (most recent call last)",
      "\u001b[1;32m<ipython-input-4-faec0684c638>\u001b[0m in \u001b[0;36m<module>\u001b[1;34m\u001b[0m\n\u001b[0;32m      1\u001b[0m \u001b[1;32mimport\u001b[0m \u001b[0mpandas\u001b[0m \u001b[1;32mas\u001b[0m \u001b[0mpd\u001b[0m\u001b[1;33m\u001b[0m\u001b[1;33m\u001b[0m\u001b[0m\n\u001b[1;32m----> 2\u001b[1;33m \u001b[1;32mimport\u001b[0m \u001b[0mDataset\u001b[0m\u001b[1;33m\u001b[0m\u001b[1;33m\u001b[0m\u001b[0m\n\u001b[0m",
      "\u001b[1;31mModuleNotFoundError\u001b[0m: No module named 'Dataset'"
     ]
    }
   ],
   "source": [
    "import pandas as pd"
   ]
  },
  {
   "cell_type": "code",
   "execution_count": 3,
   "metadata": {},
   "outputs": [
    {
     "ename": "NameError",
     "evalue": "name 'Dataset' is not defined",
     "output_type": "error",
     "traceback": [
      "\u001b[1;31m---------------------------------------------------------------------------\u001b[0m",
      "\u001b[1;31mNameError\u001b[0m                                 Traceback (most recent call last)",
      "\u001b[1;32m<ipython-input-3-8425b5d1ef1e>\u001b[0m in \u001b[0;36m<module>\u001b[1;34m\u001b[0m\n\u001b[1;32m----> 1\u001b[1;33m \u001b[1;32mfrom\u001b[0m \u001b[0mfunctions\u001b[0m \u001b[1;32mimport\u001b[0m \u001b[0mget_selected_data\u001b[0m\u001b[1;33m,\u001b[0m \u001b[0msplit_cv_test\u001b[0m\u001b[1;33m\u001b[0m\u001b[1;33m\u001b[0m\u001b[0m\n\u001b[0m",
      "\u001b[1;32m~\\OneDrive\\Documents\\GitHub\\PNT-CAT\\TempStats_3D-CNN\\functions.py\u001b[0m in \u001b[0;36m<module>\u001b[1;34m\u001b[0m\n\u001b[0;32m     77\u001b[0m     \u001b[1;32mreturn\u001b[0m \u001b[0mtrain_split\u001b[0m\u001b[1;33m,\u001b[0m \u001b[0mval_split\u001b[0m\u001b[1;33m\u001b[0m\u001b[1;33m\u001b[0m\u001b[0m\n\u001b[0;32m     78\u001b[0m \u001b[1;33m\u001b[0m\u001b[0m\n\u001b[1;32m---> 79\u001b[1;33m \u001b[1;32mclass\u001b[0m \u001b[0mload_data\u001b[0m\u001b[1;33m(\u001b[0m\u001b[0mDataset\u001b[0m\u001b[1;33m)\u001b[0m\u001b[1;33m:\u001b[0m\u001b[1;33m\u001b[0m\u001b[1;33m\u001b[0m\u001b[0m\n\u001b[0m\u001b[0;32m     80\u001b[0m     def __init__(self, \n\u001b[0;32m     81\u001b[0m                  \u001b[0msplit\u001b[0m\u001b[1;33m,\u001b[0m\u001b[1;33m\u001b[0m\u001b[1;33m\u001b[0m\u001b[0m\n",
      "\u001b[1;31mNameError\u001b[0m: name 'Dataset' is not defined"
     ]
    }
   ],
   "source": [
    "from functions import get_selected_data, split_cv_test"
   ]
  },
  {
   "cell_type": "code",
   "execution_count": null,
   "metadata": {},
   "outputs": [],
   "source": [
    "datafile = '/data_local/deeplearning/ABIDE_SummaryMeasures/fmri_summary_abideI_II.hdf5'\n",
    "SummaryMeasures_List=['alff', 'autocorr', 'degree_centrality_binarize',\n",
    "                      'degree_centrality_weighted', 'eigenvector_centrality_binarize', \n",
    "                      'eigenvector_centrality_weighted', 'entropy', 'falff', 'lfcd_binarize', \n",
    "                      'lfcd_weighted', 'reho', 'vmhc', 'T1']"
   ]
  },
  {
   "cell_type": "code",
   "execution_count": null,
   "metadata": {},
   "outputs": [],
   "source": [
    "# Hyperparameters\n",
    "batch_size = 32\n",
    "num_epochs = 50"
   ]
  },
  {
   "cell_type": "code",
   "execution_count": null,
   "metadata": {},
   "outputs": [],
   "source": [
    "# get index of QC subjects\n",
    "select_ID_i = get_selected_data(datafile)"
   ]
  },
  {
   "cell_type": "code",
   "execution_count": null,
   "metadata": {},
   "outputs": [],
   "source": [
    "# SM-model training and validation\n",
    "from SM_train_val_kfold_CV import SM_train_val_kfoldCV, SM_test_kfold_CV\n",
    "\n",
    "summaryMeasure = SummaryMeasures_List[0]\n",
    "data, label =  split_cv_test(datafile, summaryMeasure, select_ID_i)\n",
    "SM_train_val_kfoldCV(summaryMeasure, data, label, batch_size, num_epochs)\n",
    "\n",
    "# SM-Model test\n",
    "data_test, label_test = split_get_test_data(datafile, summaryMeasure, select_ID_i) #load test data\n",
    "SM_test_kfold_CV(summaryMeasure, n_split, data, label, data_test, label_test, batch_size)"
   ]
  },
  {
   "cell_type": "code",
   "execution_count": null,
   "metadata": {
    "scrolled": true
   },
   "outputs": [],
   "source": [
    "# MM - Ensemble test\n",
    "from MM-Ens_test import MMens_test\n",
    "MMens_test(SummaryMeasures_List, n_split, batch_size, kfold, datafile, select_ID_i)"
   ]
  },
  {
   "cell_type": "code",
   "execution_count": null,
   "metadata": {},
   "outputs": [],
   "source": [
    "# MM - Model train and validation\n",
    "num_epochs = 100\n",
    "data, label = split_cv_test_MMmodel(datafile, select_ID_i,SummaryMeasures_List)\n",
    "MM_train_val_kfoldCV(SummaryMeasures_List, data, label, batch_size, num_epochs,n_split)\n",
    "\n",
    "# MM- Model test\n",
    "data_test, label_test = split_get_test_data(datafile, select_ID_i) #load test data\n",
    "MMmodel_test_CV(n_channels, data, label, data_test, label_test,batch_size)"
   ]
  }
 ],
 "metadata": {
  "kernelspec": {
   "display_name": "Python 3",
   "language": "python",
   "name": "python3"
  },
  "language_info": {
   "codemirror_mode": {
    "name": "ipython",
    "version": 3
   },
   "file_extension": ".py",
   "mimetype": "text/x-python",
   "name": "python",
   "nbconvert_exporter": "python",
   "pygments_lexer": "ipython3",
   "version": "3.8.5"
  }
 },
 "nbformat": 4,
 "nbformat_minor": 2
}
