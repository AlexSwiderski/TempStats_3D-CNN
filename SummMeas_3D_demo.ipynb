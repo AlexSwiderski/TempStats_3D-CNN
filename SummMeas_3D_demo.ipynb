


datafile = '/data_local/deeplearning/ABIDE_SummaryMeasures/fmri_summary_abideI_II.hdf5'
SummaryMeasures_List=['alff', 'autocorr', 'degree_centrality_binarize',
                      'degree_centrality_weighted', 'eigenvector_centrality_binarize', 
                      'eigenvector_centrality_weighted', 'entropy', 'falff', 'lfcd_binarize', 
                      'lfcd_weighted', 'reho', 'vmhc', 'T1']